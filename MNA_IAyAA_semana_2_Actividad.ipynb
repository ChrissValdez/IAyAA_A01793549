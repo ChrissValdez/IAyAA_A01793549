{
 "cells": [
  {
   "cell_type": "markdown",
   "metadata": {
    "id": "PZ-e_gK8dIqV"
   },
   "source": [
    "#**Actividad de la semana 2**\n",
    "\n",
    "###**Maestría en Inteligencia Artificial Aplicada**\n",
    "###**Curso: Inteligencia Artificial y Aprendizaje Automático**\n",
    "####**Tecnológico de Monterrey**\n",
    "#####**Prof Luis Eduardo Falcón Morales**\n",
    "\n",
    "###**Nombre del estudiante: Christopher Valdez Cantú**\n",
    "\n",
    "###**Matrícula: A01793549**"
   ]
  },
  {
   "cell_type": "markdown",
   "metadata": {
    "id": "fK-Lmp38ud_Z"
   },
   "source": [
    "**NOTAS:**\n",
    "\n",
    "*   El siguiente documento supone que ejecutarás el archivo con Google-Colab.\n",
    "*   Se trabajará solamente con el archivo \"california_housing_train.csv\".\n",
    "*   Si no trabajas con Google-Colab, deberás descargar el archivo y trabajarlo en la aplicación de tu preferencia.\n",
    "*   Esta actividad consta solamente de 3 ejercicios, dividios en 3 partes.\n",
    "*   **Solamente deberás modificar este archivo agregando tus líneas de código en las 3 partes que se te indican.** \n",
    "*   **Cualquier modificación fuera de estas áreas te restará puntos a la actividad.**"
   ]
  },
  {
   "cell_type": "code",
   "execution_count": null,
   "metadata": {
    "id": "q6iEu4qMuiqX"
   },
   "outputs": [],
   "source": [
    "import numpy as np\n",
    "import pandas as pd\n",
    "import matplotlib.pyplot as plt \n",
    "import seaborn as sns  \n",
    "import os\n",
    "\n",
    "from sklearn.pipeline import Pipeline\n",
    "from sklearn.model_selection import KFold\n",
    "from sklearn.compose import ColumnTransformer\n",
    "from sklearn.preprocessing import power_transform\n",
    "from sklearn.preprocessing import FunctionTransformer\n",
    "\n",
    "from sklearn.impute import SimpleImputer\n",
    "from sklearn.preprocessing import MinMaxScaler  \n",
    "from sklearn.linear_model import LinearRegression"
   ]
  },
  {
   "cell_type": "code",
   "execution_count": null,
   "metadata": {
    "id": "_wBCY35nukPF"
   },
   "outputs": [],
   "source": [
    "# Cargamos el archivo que está en la siguiente carpeta de Google-Colab:\n",
    "DIR = \"/content/sample_data/\"\n",
    "os.chdir(DIR)\n",
    "\n",
    "misdatos = pd.read_csv(\"california_housing_train.csv\", sep=\",\")\n",
    "misdatos.describe()"
   ]
  },
  {
   "cell_type": "markdown",
   "metadata": {
    "id": "gn3kKEGSI-rB"
   },
   "source": [
    "#**Ejercicio - 1: Matriz de Correlación de Pearson**"
   ]
  },
  {
   "cell_type": "markdown",
   "metadata": {
    "id": "uJ6X6y9-5Up3"
   },
   "source": [
    "INSTRUCCIONES:\n",
    "\n",
    "En este ejercicio debes solamente desplegar la matriz de correlación de las variables del dataframe \"misdatos\", incluyendo en cada celda de la matriz el valor numérico de la correlación entre cada par variables. \n",
    "\n",
    "Al desplegar la matriz de correlación deberás además usar la opción del mapa de calor (heatmap) de la librería seaborn, usando el mapa de color 'BuGn'. \n",
    "\n",
    "Puedes consultar la siguiente documentación:\n",
    "\n",
    "https://pandas.pydata.org/docs/reference/api/pandas.DataFrame.corr.html\n",
    "\n",
    "https://seaborn.pydata.org/generated/seaborn.heatmap.html\n",
    "\n",
    "https://matplotlib.org/stable/tutorials/colors/colormaps.html\n"
   ]
  },
  {
   "cell_type": "code",
   "execution_count": null,
   "metadata": {
    "id": "ooYVR8x65Znv"
   },
   "outputs": [],
   "source": [
    "sns.set(rc={'figure.figsize':(9,6)}) \n",
    "\n",
    "#########################################################################\n",
    "# INICIA LA SECCIÓN PARA AGREGAR CÓDIGO.\n",
    "# Ejercicio 1\n",
    "# Sustituye \"None\" por tus líneas de código dentro de esta región.\n",
    "# Se esperan cuando mucho 2 líneas de código.\n",
    "\n",
    "None \n",
    "\n",
    "\n",
    "# TERMINA LA SECCIÓN PARA AGREGAR CÓDIGO.\n",
    "#########################################################################\n",
    "\n",
    "plt.show()"
   ]
  },
  {
   "cell_type": "markdown",
   "metadata": {
    "id": "4mzuVEV76Owg"
   },
   "source": [
    "#**Ejercicio - 2: Transformaciones e Hisotgramas de variables**"
   ]
  },
  {
   "cell_type": "markdown",
   "metadata": {
    "id": "r8tTbnfiHiY6"
   },
   "source": [
    "INSTRUCCIONES:\n",
    "\n",
    "En este ejercicio se trabajará solamente con las siguientes 7 variables: \n",
    "\n",
    "*   housing_median_age\n",
    "*   total_rooms\n",
    "*   total_bedrooms\n",
    "*   population\n",
    "*   households\n",
    "*   median_income\n",
    "*   median_house_value\n",
    "\n",
    "A cada una de dichas columnas les deberás aplicar las siguientes transformaciones y desplegar sus histogramas con 20 barras (bins):\n",
    "\n",
    "*   Raíz cuadrada con Numpy.\n",
    "*   Logaritmo natural con Numpy.\n",
    "*   Potencia 2 (i.e., elevar al cuadrado) con Numpy.\n",
    "*   Box-Cox con scikit-learn.\n"
   ]
  },
  {
   "cell_type": "code",
   "execution_count": null,
   "metadata": {
    "id": "nBj56LBaJEzL"
   },
   "outputs": [],
   "source": [
    "\n",
    "# Lista de los nombres de las 7 variables que trabajaremos en este ejercicio.\n",
    "variables_a_transformar = ['housing_median_age','total_rooms','total_bedrooms','population','households','median_income','median_house_value']\n",
    "\n",
    "\n",
    "sns.set(rc={'figure.figsize':(17,12)})\n",
    "fig, axes = plt.subplots(5, 7)    \n",
    "  \n",
    "for k in range(0,7):       \n",
    " \n",
    "    ################################################################################################################\n",
    "    # INICIA LA SECCIÓN PARA AGREGAR CÓDIGO.\n",
    "    # Ejercicio 2\n",
    "    # Solamente deberás escribir tu código en las partes que dicen \"None\", sustituyendo este por tu código.\n",
    "    # Deberás utilizar el dataframe \"misdatos\" con la lista que llamamos \"variables_a_transformar\" para \n",
    "    # seleccionar los valores de cada una de las 7 variables que se irán transformando y graficando.\n",
    "\n",
    "\n",
    "    # Datos originales ---------------------------------------------------------\n",
    "    plt.subplot(5,7,k+1) \n",
    "\n",
    "    Transf0 = None          #  En esta línea se debe asignar a Transf0 los valores de cada variable \"k\" sin transformar.\n",
    "    None                    #  En este línea agrega el comando para obtener el histograma de Transf0 con 20 barras (bins).\n",
    "\n",
    "\n",
    "    plt.xlabel(variables_a_transformar[k])\n",
    "    if k==0:\n",
    "      plt.ylabel('Originales')\n",
    "    \n",
    "\n",
    "\n",
    "    # Datos transformados con raíz cuadrada ------------------------------------\n",
    "    plt.subplot(5,7,k+8)    \n",
    "\n",
    "    Transf1 = None          #  En esta línea se debe aplicar la raíz cuadrada a los valores de cada variable \"k\" sin transformar.\n",
    "    None                    #  En este línea agrega el comando para obtener el histograma de Transf1 con 20 barras (bins).\n",
    "\n",
    "\n",
    "    plt.xlabel(variables_a_transformar[k])\n",
    "    if k==0:\n",
    "      plt.ylabel('Raíz Cuadrada')\n",
    "    \n",
    "\n",
    "    \n",
    "    # Datos transformados con logaritmo natural --------------------------------\n",
    "    plt.subplot(5,7,k+15)     \n",
    "\n",
    "    Transf2 = None          #  En esta línea se debe aplicar el logaritmo natural a los valores de cada variable \"k\" sin transformar.\n",
    "    None                    #  En este línea agrega el comando para obtener el histograma de Transf2 con 20 barras (bins).\n",
    "\n",
    "\n",
    "    plt.xlabel(variables_a_transformar[k])\n",
    "    if k==0:\n",
    "      plt.ylabel('Logaritmo')\n",
    "    \n",
    "\n",
    "\n",
    "    # Datos transformados con la potencia de 2 ---------------------------------\n",
    "    plt.subplot(5,7,k+22)\n",
    "\n",
    "    Transf3 = None          #  En esta línea debes elevar al cuadrado los valores de cada variable \"k\" sin transformar.\n",
    "    None                    #  En este línea agrega el comando para obtener el histograma de Transf3 con 20 barras (bins).\n",
    "\n",
    "\n",
    "    plt.xlabel(variables_a_transformar[k])\n",
    "    if k==0:\n",
    "      plt.ylabel('Potencia 2')\n",
    "    \n",
    "\n",
    "    # Datos transformados con Box-Cox ------------------------------------------\n",
    "    plt.subplot(5,7,k+29)\n",
    "\n",
    "    Transf4 = None          #  En esta línea se debe aplicar la transformación Box-Cox a los valores de cada variable \"k\" sin transformar.\n",
    "    None                    #  En este línea agrega el comando para obtener el histograma de Transf4 con 20 barras (bins).\n",
    "\n",
    "\n",
    "    plt.xlabel(variables_a_transformar[k])\n",
    "    if k==0:\n",
    "      plt.ylabel('Box-Cox')\n",
    "\n",
    "    # TERMINA LA SECCIÓN PARA AGREGAR CÓDIGO.\n",
    "    ################################################################################################################\n",
    "\n",
    "    \n",
    "\n",
    "plt.show()"
   ]
  },
  {
   "cell_type": "markdown",
   "metadata": {
    "id": "MWnC5yszs7VR"
   },
   "source": [
    "#**Ejercicio - 3 - Métricas de desempeño: $RMSE$, $MAE$ y $MAPE$**\n"
   ]
  },
  {
   "cell_type": "markdown",
   "metadata": {
    "id": "NFtUgAfXMyVf"
   },
   "source": [
    "\n",
    "INSTRUCCIONES:\n",
    "\n",
    "En el archivo semana_02_IAyAA_RLM_teoria.pdf que se encuentra en Canvas se muestran las fórmulas que definen a las métricas $RMSE$, $MAE$ y $MAPE$.\n",
    "\n",
    "Investiga el significado de cada una de ellas.\n",
    "\n",
    "Cada una de ellas se puede calcular mediante los valores observados reales $y$, los valores de predicción $\\hat{y}$ y el total de registros $n$.\n",
    "\n",
    "En este ejercicio deberás definir cada una de estas métricas mediante tres funciones que llamarás mi_RMSE, mi_MAE y mi_MAPE. \n",
    "\n",
    "Cada una de las tres funciones que definas deberán tener dos argumentos, a saber, los valores observados reales $y$ y los valores de predicción $\\hat{y}$.\n",
    "\n",
    "Como valor de retorno deberá ser el valor numérico real dado por la fórmula que lo define.\n",
    "\n",
    "Solamente podrás usar las funciones de NumPy del promedio (mean), cuadrado (square) y valor absoluto (abs), además de las operaciones aritméticas básicas.\n",
    "\n",
    "Para la definición de cada una de ellas se esperarían cuando mucho 5 líneas de código en total, pero pueden ser menos. Una cantidad mayor a esta será penalizada.\n"
   ]
  },
  {
   "cell_type": "code",
   "execution_count": null,
   "metadata": {
    "id": "cBNw_378l2Mk"
   },
   "outputs": [],
   "source": [
    "#########################################################################\n",
    "# INICIA LA SECCIÓN PARA AGREGAR CÓDIGO.\n",
    "# Ejercicio 3\n",
    "\n",
    "# Incluye aquí las líneas de código que definan a la función: mi_RMSE:\n",
    "None\n",
    "\n",
    "\n",
    "\n",
    "\n",
    "# Incluye aquí las líneas de código que definan a la función: mi_MAE:\n",
    "None \n",
    "\n",
    "\n",
    "\n",
    "\n",
    "# Incluye aquí las líneas de código que definan a la función: mi_MAPE:\n",
    "None\n",
    "\n",
    "\n",
    "\n",
    "\n",
    "# TERMINA LA SECCIÓN PARA AGREGAR CÓDIGO.\n",
    "#########################################################################"
   ]
  },
  {
   "cell_type": "code",
   "execution_count": null,
   "metadata": {
    "id": "oaUZ-1e3FjZi"
   },
   "outputs": [],
   "source": [
    "Xtrain = misdatos.drop('median_house_value', axis='columns')                                                                     \n",
    "ytrain = misdatos['median_house_value']  \n",
    "\n",
    "num_prepro_pipeline = Pipeline(steps = [('imputar', SimpleImputer(strategy='median')),  \n",
    "                                        ('scalar', MinMaxScaler(feature_range=(1, 2))),\n",
    "                                        ('sqrt', FunctionTransformer(np.sqrt))\n",
    "                                        ])     \n",
    "\n",
    "numerical_features = ['total_rooms','total_bedrooms','population','households','median_income']\n",
    "\n",
    "columnasTransformer = ColumnTransformer(transformers = [('numerical', num_prepro_pipeline, numerical_features)],\n",
    "                                        remainder='passthrough')\n",
    "\n",
    "modelo_LR = LinearRegression()\n",
    "\n",
    "scores_RMSEVal = []\n",
    "scores_MAEVal = []\n",
    "scores_MAPEVal = []\n",
    "\n",
    "kf = KFold(n_splits= 10, shuffle=True)   \n",
    "\n",
    "for train_index, val_index in kf.split(Xtrain):\n",
    "\n",
    "  X_train, X_val = Xtrain.loc[train_index], Xtrain.loc[val_index]\n",
    "  y_train, y_val = ytrain[train_index], ytrain[val_index]\n",
    "\n",
    "  XtrainFit = columnasTransformer.fit(X_train)   \n",
    "  XtrainTransf = XtrainFit.transform(X_train)    \n",
    "\n",
    "  modelo_LR = modelo_LR.fit(XtrainTransf, y_train) \n",
    "\n",
    "  XvalTransf = XtrainFit.transform(X_val) \n",
    "  yhatVal = modelo_LR.predict(XvalTransf)  \n",
    "\n",
    "  scores_RMSEVal.append(mi_RMSE(y_val, yhatVal))\n",
    "  scores_MAEVal.append(mi_MAE(y_val, yhatVal))\n",
    "  scores_MAPEVal.append(mi_MAPE(y_val, yhatVal))\n",
    "\n",
    "\n",
    "# Desplegar información:\n",
    "results = [scores_RMSEVal, scores_MAEVal, scores_MAPEVal]\n",
    "names = ['RMSEval','MAEval','MAPEval']\n",
    "\n",
    "print(\"\\t  %s\\t\\t%s   \\t\\t%s\" % (names[0],names[1],names[2]))\n",
    "for i,z in enumerate(zip(scores_RMSEVal, scores_MAEVal, scores_MAPEVal)):\n",
    "  print(\"fold[%d]:  %.1f \\t\\t%.1f  \\t\\t%.1f%%\" % (i+1,z[0],z[1],z[2]))\n",
    "print(\"mean(std) %.1f(%.1f)  \\t%.1f(%.1f)   \\t%.1f%% (%.1f)\" % (np.mean(scores_RMSEVal), np.std(scores_RMSEVal),\n",
    "                                                                np.mean(scores_MAEVal), np.std(scores_MAEVal),\n",
    "                                                                np.mean(scores_MAPEVal), np.std(scores_MAPEVal)))"
   ]
  },
  {
   "cell_type": "markdown",
   "metadata": {
    "id": "WZXu_qw4antB"
   },
   "source": [
    "**\\<\\<Fin de la Actividad_1_Semana_2>>**"
   ]
  }
 ],
 "metadata": {
  "colab": {
   "collapsed_sections": [
    "PZ-e_gK8dIqV",
    "gn3kKEGSI-rB",
    "4mzuVEV76Owg",
    "MWnC5yszs7VR"
   ],
   "name": "MNA_IAyAA_semana_2_Actividad.ipynb",
   "provenance": []
  },
  "kernelspec": {
   "display_name": "Python 3 (ipykernel)",
   "language": "python",
   "name": "python3"
  },
  "language_info": {
   "codemirror_mode": {
    "name": "ipython",
    "version": 3
   },
   "file_extension": ".py",
   "mimetype": "text/x-python",
   "name": "python",
   "nbconvert_exporter": "python",
   "pygments_lexer": "ipython3",
   "version": "3.9.12"
  }
 },
 "nbformat": 4,
 "nbformat_minor": 4
}
